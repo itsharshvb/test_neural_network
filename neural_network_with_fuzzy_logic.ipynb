{
 "cells": [
  {
   "cell_type": "code",
   "execution_count": 2,
   "metadata": {},
   "outputs": [],
   "source": [
    "import numpy as np\n",
    "import tensorflow as tf\n",
    "from tensorflow.keras.models import Model\n",
    "from tensorflow.keras.layers import Input, Dense, Dropout, Lambda\n",
    "from sklearn.preprocessing import MinMaxScaler\n",
    "import skfuzzy as fuzz\n",
    "import skfuzzy.control as ctrl"
   ]
  },
  {
   "cell_type": "code",
   "execution_count": 3,
   "metadata": {},
   "outputs": [],
   "source": [
    "import pandas as pd"
   ]
  },
  {
   "cell_type": "code",
   "execution_count": 4,
   "metadata": {},
   "outputs": [],
   "source": [
    "df = pd.read_csv('air_quality_health_impact_data.csv')"
   ]
  },
  {
   "cell_type": "code",
   "execution_count": 5,
   "metadata": {},
   "outputs": [
    {
     "data": {
      "text/html": [
       "<div>\n",
       "<style scoped>\n",
       "    .dataframe tbody tr th:only-of-type {\n",
       "        vertical-align: middle;\n",
       "    }\n",
       "\n",
       "    .dataframe tbody tr th {\n",
       "        vertical-align: top;\n",
       "    }\n",
       "\n",
       "    .dataframe thead th {\n",
       "        text-align: right;\n",
       "    }\n",
       "</style>\n",
       "<table border=\"1\" class=\"dataframe\">\n",
       "  <thead>\n",
       "    <tr style=\"text-align: right;\">\n",
       "      <th></th>\n",
       "      <th>RecordID</th>\n",
       "      <th>AQI</th>\n",
       "      <th>PM10</th>\n",
       "      <th>PM2_5</th>\n",
       "      <th>NO2</th>\n",
       "      <th>SO2</th>\n",
       "      <th>O3</th>\n",
       "      <th>Temperature</th>\n",
       "      <th>Humidity</th>\n",
       "      <th>WindSpeed</th>\n",
       "      <th>RespiratoryCases</th>\n",
       "      <th>CardiovascularCases</th>\n",
       "      <th>HospitalAdmissions</th>\n",
       "      <th>HealthImpactScore</th>\n",
       "      <th>HealthImpactClass</th>\n",
       "    </tr>\n",
       "  </thead>\n",
       "  <tbody>\n",
       "    <tr>\n",
       "      <th>0</th>\n",
       "      <td>1</td>\n",
       "      <td>187.270059</td>\n",
       "      <td>295.853039</td>\n",
       "      <td>13.038560</td>\n",
       "      <td>6.639263</td>\n",
       "      <td>66.161150</td>\n",
       "      <td>54.624280</td>\n",
       "      <td>5.150335</td>\n",
       "      <td>84.424344</td>\n",
       "      <td>6.137755</td>\n",
       "      <td>7</td>\n",
       "      <td>5</td>\n",
       "      <td>1</td>\n",
       "      <td>97.244041</td>\n",
       "      <td>0.0</td>\n",
       "    </tr>\n",
       "    <tr>\n",
       "      <th>1</th>\n",
       "      <td>2</td>\n",
       "      <td>475.357153</td>\n",
       "      <td>246.254703</td>\n",
       "      <td>9.984497</td>\n",
       "      <td>16.318326</td>\n",
       "      <td>90.499523</td>\n",
       "      <td>169.621728</td>\n",
       "      <td>1.543378</td>\n",
       "      <td>46.851415</td>\n",
       "      <td>4.521422</td>\n",
       "      <td>10</td>\n",
       "      <td>2</td>\n",
       "      <td>0</td>\n",
       "      <td>100.000000</td>\n",
       "      <td>0.0</td>\n",
       "    </tr>\n",
       "    <tr>\n",
       "      <th>2</th>\n",
       "      <td>3</td>\n",
       "      <td>365.996971</td>\n",
       "      <td>84.443191</td>\n",
       "      <td>23.111340</td>\n",
       "      <td>96.317811</td>\n",
       "      <td>17.875850</td>\n",
       "      <td>9.006794</td>\n",
       "      <td>1.169483</td>\n",
       "      <td>17.806977</td>\n",
       "      <td>11.157384</td>\n",
       "      <td>13</td>\n",
       "      <td>3</td>\n",
       "      <td>0</td>\n",
       "      <td>100.000000</td>\n",
       "      <td>0.0</td>\n",
       "    </tr>\n",
       "    <tr>\n",
       "      <th>3</th>\n",
       "      <td>4</td>\n",
       "      <td>299.329242</td>\n",
       "      <td>21.020609</td>\n",
       "      <td>14.273403</td>\n",
       "      <td>81.234403</td>\n",
       "      <td>48.323616</td>\n",
       "      <td>93.161033</td>\n",
       "      <td>21.925276</td>\n",
       "      <td>99.473373</td>\n",
       "      <td>15.302500</td>\n",
       "      <td>8</td>\n",
       "      <td>8</td>\n",
       "      <td>1</td>\n",
       "      <td>100.000000</td>\n",
       "      <td>0.0</td>\n",
       "    </tr>\n",
       "    <tr>\n",
       "      <th>4</th>\n",
       "      <td>5</td>\n",
       "      <td>78.009320</td>\n",
       "      <td>16.987667</td>\n",
       "      <td>152.111623</td>\n",
       "      <td>121.235461</td>\n",
       "      <td>90.866167</td>\n",
       "      <td>241.795138</td>\n",
       "      <td>9.217517</td>\n",
       "      <td>24.906837</td>\n",
       "      <td>14.534733</td>\n",
       "      <td>9</td>\n",
       "      <td>0</td>\n",
       "      <td>1</td>\n",
       "      <td>95.182643</td>\n",
       "      <td>0.0</td>\n",
       "    </tr>\n",
       "  </tbody>\n",
       "</table>\n",
       "</div>"
      ],
      "text/plain": [
       "   RecordID         AQI        PM10       PM2_5         NO2        SO2  \\\n",
       "0         1  187.270059  295.853039   13.038560    6.639263  66.161150   \n",
       "1         2  475.357153  246.254703    9.984497   16.318326  90.499523   \n",
       "2         3  365.996971   84.443191   23.111340   96.317811  17.875850   \n",
       "3         4  299.329242   21.020609   14.273403   81.234403  48.323616   \n",
       "4         5   78.009320   16.987667  152.111623  121.235461  90.866167   \n",
       "\n",
       "           O3  Temperature   Humidity  WindSpeed  RespiratoryCases  \\\n",
       "0   54.624280     5.150335  84.424344   6.137755                 7   \n",
       "1  169.621728     1.543378  46.851415   4.521422                10   \n",
       "2    9.006794     1.169483  17.806977  11.157384                13   \n",
       "3   93.161033    21.925276  99.473373  15.302500                 8   \n",
       "4  241.795138     9.217517  24.906837  14.534733                 9   \n",
       "\n",
       "   CardiovascularCases  HospitalAdmissions  HealthImpactScore  \\\n",
       "0                    5                   1          97.244041   \n",
       "1                    2                   0         100.000000   \n",
       "2                    3                   0         100.000000   \n",
       "3                    8                   1         100.000000   \n",
       "4                    0                   1          95.182643   \n",
       "\n",
       "   HealthImpactClass  \n",
       "0                0.0  \n",
       "1                0.0  \n",
       "2                0.0  \n",
       "3                0.0  \n",
       "4                0.0  "
      ]
     },
     "execution_count": 5,
     "metadata": {},
     "output_type": "execute_result"
    }
   ],
   "source": [
    "df.head()\n"
   ]
  },
  {
   "cell_type": "code",
   "execution_count": 6,
   "metadata": {},
   "outputs": [
    {
     "data": {
      "text/plain": [
       "<bound method NDFrame.describe of       RecordID         AQI        PM10       PM2_5         NO2        SO2  \\\n",
       "0            1  187.270059  295.853039   13.038560    6.639263  66.161150   \n",
       "1            2  475.357153  246.254703    9.984497   16.318326  90.499523   \n",
       "2            3  365.996971   84.443191   23.111340   96.317811  17.875850   \n",
       "3            4  299.329242   21.020609   14.273403   81.234403  48.323616   \n",
       "4            5   78.009320   16.987667  152.111623  121.235461  90.866167   \n",
       "...        ...         ...         ...         ...         ...        ...   \n",
       "5806      5807  171.112762   11.246387  197.984628  158.643107  17.743678   \n",
       "5807      5808  490.691667  275.340762   55.774170  132.336871  29.334724   \n",
       "5808      5809  314.841798   41.892699  184.708551   82.105823  68.334578   \n",
       "5809      5810  208.080473  165.533785  199.177255  100.796385  87.586488   \n",
       "5810      5811   83.269257   82.216262  119.968244  193.440691  79.849177   \n",
       "\n",
       "              O3  Temperature   Humidity  WindSpeed  RespiratoryCases  \\\n",
       "0      54.624280     5.150335  84.424344   6.137755                 7   \n",
       "1     169.621728     1.543378  46.851415   4.521422                10   \n",
       "2       9.006794     1.169483  17.806977  11.157384                13   \n",
       "3      93.161033    21.925276  99.473373  15.302500                 8   \n",
       "4     241.795138     9.217517  24.906837  14.534733                 9   \n",
       "...          ...          ...        ...        ...               ...   \n",
       "5806  280.370909    37.359323  61.707640   4.097129                14   \n",
       "5807  108.043492    34.532542  21.528555   6.682549                 8   \n",
       "5808  105.568503    22.975564  92.725625   2.889698                12   \n",
       "5809  166.469537    36.090620  25.836286  10.722393                 6   \n",
       "5810   28.681885    18.239090  77.096194  16.410320                14   \n",
       "\n",
       "      CardiovascularCases  HospitalAdmissions  HealthImpactScore  \\\n",
       "0                       5                   1          97.244041   \n",
       "1                       2                   0         100.000000   \n",
       "2                       3                   0         100.000000   \n",
       "3                       8                   1         100.000000   \n",
       "4                       0                   1          95.182643   \n",
       "...                   ...                 ...                ...   \n",
       "5806                    5                   2         100.000000   \n",
       "5807                    6                   2         100.000000   \n",
       "5808                    2                   3         100.000000   \n",
       "5809                    2                   3         100.000000   \n",
       "5810                    2                   2          81.668298   \n",
       "\n",
       "      HealthImpactClass  \n",
       "0                   0.0  \n",
       "1                   0.0  \n",
       "2                   0.0  \n",
       "3                   0.0  \n",
       "4                   0.0  \n",
       "...                 ...  \n",
       "5806                4.0  \n",
       "5807                3.0  \n",
       "5808                1.0  \n",
       "5809                4.0  \n",
       "5810                0.0  \n",
       "\n",
       "[5811 rows x 15 columns]>"
      ]
     },
     "execution_count": 6,
     "metadata": {},
     "output_type": "execute_result"
    }
   ],
   "source": [
    "df.describe\n"
   ]
  },
  {
   "cell_type": "code",
   "execution_count": 7,
   "metadata": {},
   "outputs": [
    {
     "data": {
      "text/html": [
       "<div>\n",
       "<style scoped>\n",
       "    .dataframe tbody tr th:only-of-type {\n",
       "        vertical-align: middle;\n",
       "    }\n",
       "\n",
       "    .dataframe tbody tr th {\n",
       "        vertical-align: top;\n",
       "    }\n",
       "\n",
       "    .dataframe thead th {\n",
       "        text-align: right;\n",
       "    }\n",
       "</style>\n",
       "<table border=\"1\" class=\"dataframe\">\n",
       "  <thead>\n",
       "    <tr style=\"text-align: right;\">\n",
       "      <th></th>\n",
       "      <th>RecordID</th>\n",
       "      <th>AQI</th>\n",
       "      <th>PM10</th>\n",
       "      <th>PM2_5</th>\n",
       "      <th>NO2</th>\n",
       "      <th>SO2</th>\n",
       "      <th>O3</th>\n",
       "      <th>Temperature</th>\n",
       "      <th>Humidity</th>\n",
       "      <th>WindSpeed</th>\n",
       "      <th>RespiratoryCases</th>\n",
       "      <th>CardiovascularCases</th>\n",
       "      <th>HospitalAdmissions</th>\n",
       "      <th>HealthImpactScore</th>\n",
       "      <th>HealthImpactClass</th>\n",
       "    </tr>\n",
       "  </thead>\n",
       "  <tbody>\n",
       "    <tr>\n",
       "      <th>count</th>\n",
       "      <td>5811.000000</td>\n",
       "      <td>5811.000000</td>\n",
       "      <td>5811.000000</td>\n",
       "      <td>5811.000000</td>\n",
       "      <td>5811.000000</td>\n",
       "      <td>5811.000000</td>\n",
       "      <td>5811.000000</td>\n",
       "      <td>5811.000000</td>\n",
       "      <td>5811.000000</td>\n",
       "      <td>5811.000000</td>\n",
       "      <td>5811.000000</td>\n",
       "      <td>5811.000000</td>\n",
       "      <td>5811.000000</td>\n",
       "      <td>5811.000000</td>\n",
       "      <td>5811.000000</td>\n",
       "    </tr>\n",
       "    <tr>\n",
       "      <th>mean</th>\n",
       "      <td>2906.000000</td>\n",
       "      <td>248.438476</td>\n",
       "      <td>148.654997</td>\n",
       "      <td>100.223714</td>\n",
       "      <td>102.293445</td>\n",
       "      <td>49.456838</td>\n",
       "      <td>149.312431</td>\n",
       "      <td>14.975500</td>\n",
       "      <td>54.776853</td>\n",
       "      <td>9.989177</td>\n",
       "      <td>9.974187</td>\n",
       "      <td>4.988986</td>\n",
       "      <td>2.001033</td>\n",
       "      <td>93.785223</td>\n",
       "      <td>0.281191</td>\n",
       "    </tr>\n",
       "    <tr>\n",
       "      <th>std</th>\n",
       "      <td>1677.635538</td>\n",
       "      <td>144.777638</td>\n",
       "      <td>85.698500</td>\n",
       "      <td>58.096612</td>\n",
       "      <td>57.713175</td>\n",
       "      <td>28.530329</td>\n",
       "      <td>86.534240</td>\n",
       "      <td>14.483067</td>\n",
       "      <td>26.020786</td>\n",
       "      <td>5.776950</td>\n",
       "      <td>3.129234</td>\n",
       "      <td>2.216791</td>\n",
       "      <td>1.398794</td>\n",
       "      <td>13.318904</td>\n",
       "      <td>0.714075</td>\n",
       "    </tr>\n",
       "    <tr>\n",
       "      <th>min</th>\n",
       "      <td>1.000000</td>\n",
       "      <td>0.005817</td>\n",
       "      <td>0.015848</td>\n",
       "      <td>0.031549</td>\n",
       "      <td>0.009625</td>\n",
       "      <td>0.011023</td>\n",
       "      <td>0.001661</td>\n",
       "      <td>-9.990998</td>\n",
       "      <td>10.001506</td>\n",
       "      <td>0.002094</td>\n",
       "      <td>1.000000</td>\n",
       "      <td>0.000000</td>\n",
       "      <td>0.000000</td>\n",
       "      <td>22.448488</td>\n",
       "      <td>0.000000</td>\n",
       "    </tr>\n",
       "    <tr>\n",
       "      <th>25%</th>\n",
       "      <td>1453.500000</td>\n",
       "      <td>122.951293</td>\n",
       "      <td>75.374954</td>\n",
       "      <td>49.435171</td>\n",
       "      <td>53.538538</td>\n",
       "      <td>24.887264</td>\n",
       "      <td>73.999665</td>\n",
       "      <td>2.481500</td>\n",
       "      <td>31.995262</td>\n",
       "      <td>4.952343</td>\n",
       "      <td>8.000000</td>\n",
       "      <td>3.000000</td>\n",
       "      <td>1.000000</td>\n",
       "      <td>98.203057</td>\n",
       "      <td>0.000000</td>\n",
       "    </tr>\n",
       "    <tr>\n",
       "      <th>50%</th>\n",
       "      <td>2906.000000</td>\n",
       "      <td>249.127841</td>\n",
       "      <td>147.634997</td>\n",
       "      <td>100.506337</td>\n",
       "      <td>102.987736</td>\n",
       "      <td>49.530165</td>\n",
       "      <td>149.559871</td>\n",
       "      <td>14.942428</td>\n",
       "      <td>54.543904</td>\n",
       "      <td>10.051742</td>\n",
       "      <td>10.000000</td>\n",
       "      <td>5.000000</td>\n",
       "      <td>2.000000</td>\n",
       "      <td>100.000000</td>\n",
       "      <td>0.000000</td>\n",
       "    </tr>\n",
       "    <tr>\n",
       "      <th>75%</th>\n",
       "      <td>4358.500000</td>\n",
       "      <td>373.630668</td>\n",
       "      <td>222.436759</td>\n",
       "      <td>151.340260</td>\n",
       "      <td>151.658516</td>\n",
       "      <td>73.346617</td>\n",
       "      <td>223.380126</td>\n",
       "      <td>27.465374</td>\n",
       "      <td>77.641639</td>\n",
       "      <td>14.971840</td>\n",
       "      <td>12.000000</td>\n",
       "      <td>6.000000</td>\n",
       "      <td>3.000000</td>\n",
       "      <td>100.000000</td>\n",
       "      <td>0.000000</td>\n",
       "    </tr>\n",
       "    <tr>\n",
       "      <th>max</th>\n",
       "      <td>5811.000000</td>\n",
       "      <td>499.858837</td>\n",
       "      <td>299.901962</td>\n",
       "      <td>199.984965</td>\n",
       "      <td>199.980195</td>\n",
       "      <td>99.969561</td>\n",
       "      <td>299.936812</td>\n",
       "      <td>39.963434</td>\n",
       "      <td>99.997493</td>\n",
       "      <td>19.999139</td>\n",
       "      <td>23.000000</td>\n",
       "      <td>14.000000</td>\n",
       "      <td>12.000000</td>\n",
       "      <td>100.000000</td>\n",
       "      <td>4.000000</td>\n",
       "    </tr>\n",
       "  </tbody>\n",
       "</table>\n",
       "</div>"
      ],
      "text/plain": [
       "          RecordID          AQI         PM10        PM2_5          NO2  \\\n",
       "count  5811.000000  5811.000000  5811.000000  5811.000000  5811.000000   \n",
       "mean   2906.000000   248.438476   148.654997   100.223714   102.293445   \n",
       "std    1677.635538   144.777638    85.698500    58.096612    57.713175   \n",
       "min       1.000000     0.005817     0.015848     0.031549     0.009625   \n",
       "25%    1453.500000   122.951293    75.374954    49.435171    53.538538   \n",
       "50%    2906.000000   249.127841   147.634997   100.506337   102.987736   \n",
       "75%    4358.500000   373.630668   222.436759   151.340260   151.658516   \n",
       "max    5811.000000   499.858837   299.901962   199.984965   199.980195   \n",
       "\n",
       "               SO2           O3  Temperature     Humidity    WindSpeed  \\\n",
       "count  5811.000000  5811.000000  5811.000000  5811.000000  5811.000000   \n",
       "mean     49.456838   149.312431    14.975500    54.776853     9.989177   \n",
       "std      28.530329    86.534240    14.483067    26.020786     5.776950   \n",
       "min       0.011023     0.001661    -9.990998    10.001506     0.002094   \n",
       "25%      24.887264    73.999665     2.481500    31.995262     4.952343   \n",
       "50%      49.530165   149.559871    14.942428    54.543904    10.051742   \n",
       "75%      73.346617   223.380126    27.465374    77.641639    14.971840   \n",
       "max      99.969561   299.936812    39.963434    99.997493    19.999139   \n",
       "\n",
       "       RespiratoryCases  CardiovascularCases  HospitalAdmissions  \\\n",
       "count       5811.000000          5811.000000         5811.000000   \n",
       "mean           9.974187             4.988986            2.001033   \n",
       "std            3.129234             2.216791            1.398794   \n",
       "min            1.000000             0.000000            0.000000   \n",
       "25%            8.000000             3.000000            1.000000   \n",
       "50%           10.000000             5.000000            2.000000   \n",
       "75%           12.000000             6.000000            3.000000   \n",
       "max           23.000000            14.000000           12.000000   \n",
       "\n",
       "       HealthImpactScore  HealthImpactClass  \n",
       "count        5811.000000        5811.000000  \n",
       "mean           93.785223           0.281191  \n",
       "std            13.318904           0.714075  \n",
       "min            22.448488           0.000000  \n",
       "25%            98.203057           0.000000  \n",
       "50%           100.000000           0.000000  \n",
       "75%           100.000000           0.000000  \n",
       "max           100.000000           4.000000  "
      ]
     },
     "execution_count": 7,
     "metadata": {},
     "output_type": "execute_result"
    }
   ],
   "source": [
    "df.describe()"
   ]
  },
  {
   "cell_type": "code",
   "execution_count": 8,
   "metadata": {},
   "outputs": [
    {
     "data": {
      "text/plain": [
       "Index(['RecordID', 'AQI', 'PM10', 'PM2_5', 'NO2', 'SO2', 'O3', 'Temperature',\n",
       "       'Humidity', 'WindSpeed', 'RespiratoryCases', 'CardiovascularCases',\n",
       "       'HospitalAdmissions', 'HealthImpactScore', 'HealthImpactClass'],\n",
       "      dtype='object')"
      ]
     },
     "execution_count": 8,
     "metadata": {},
     "output_type": "execute_result"
    }
   ],
   "source": [
    "df.columns"
   ]
  },
  {
   "cell_type": "code",
   "execution_count": 9,
   "metadata": {},
   "outputs": [
    {
     "data": {
      "text/plain": [
       "(5811, 15)"
      ]
     },
     "execution_count": 9,
     "metadata": {},
     "output_type": "execute_result"
    }
   ],
   "source": [
    "df.shape"
   ]
  },
  {
   "cell_type": "code",
   "execution_count": 10,
   "metadata": {},
   "outputs": [],
   "source": [
    "selected_columns = ['AQI', 'PM10', 'PM2_5', 'NO2', 'SO2', 'O3']\n",
    "new_df = df[selected_columns]"
   ]
  },
  {
   "cell_type": "code",
   "execution_count": 11,
   "metadata": {},
   "outputs": [
    {
     "data": {
      "text/html": [
       "<div>\n",
       "<style scoped>\n",
       "    .dataframe tbody tr th:only-of-type {\n",
       "        vertical-align: middle;\n",
       "    }\n",
       "\n",
       "    .dataframe tbody tr th {\n",
       "        vertical-align: top;\n",
       "    }\n",
       "\n",
       "    .dataframe thead th {\n",
       "        text-align: right;\n",
       "    }\n",
       "</style>\n",
       "<table border=\"1\" class=\"dataframe\">\n",
       "  <thead>\n",
       "    <tr style=\"text-align: right;\">\n",
       "      <th></th>\n",
       "      <th>AQI</th>\n",
       "      <th>PM10</th>\n",
       "      <th>PM2_5</th>\n",
       "      <th>NO2</th>\n",
       "      <th>SO2</th>\n",
       "      <th>O3</th>\n",
       "    </tr>\n",
       "  </thead>\n",
       "  <tbody>\n",
       "    <tr>\n",
       "      <th>0</th>\n",
       "      <td>187.270059</td>\n",
       "      <td>295.853039</td>\n",
       "      <td>13.038560</td>\n",
       "      <td>6.639263</td>\n",
       "      <td>66.161150</td>\n",
       "      <td>54.624280</td>\n",
       "    </tr>\n",
       "    <tr>\n",
       "      <th>1</th>\n",
       "      <td>475.357153</td>\n",
       "      <td>246.254703</td>\n",
       "      <td>9.984497</td>\n",
       "      <td>16.318326</td>\n",
       "      <td>90.499523</td>\n",
       "      <td>169.621728</td>\n",
       "    </tr>\n",
       "    <tr>\n",
       "      <th>2</th>\n",
       "      <td>365.996971</td>\n",
       "      <td>84.443191</td>\n",
       "      <td>23.111340</td>\n",
       "      <td>96.317811</td>\n",
       "      <td>17.875850</td>\n",
       "      <td>9.006794</td>\n",
       "    </tr>\n",
       "    <tr>\n",
       "      <th>3</th>\n",
       "      <td>299.329242</td>\n",
       "      <td>21.020609</td>\n",
       "      <td>14.273403</td>\n",
       "      <td>81.234403</td>\n",
       "      <td>48.323616</td>\n",
       "      <td>93.161033</td>\n",
       "    </tr>\n",
       "    <tr>\n",
       "      <th>4</th>\n",
       "      <td>78.009320</td>\n",
       "      <td>16.987667</td>\n",
       "      <td>152.111623</td>\n",
       "      <td>121.235461</td>\n",
       "      <td>90.866167</td>\n",
       "      <td>241.795138</td>\n",
       "    </tr>\n",
       "  </tbody>\n",
       "</table>\n",
       "</div>"
      ],
      "text/plain": [
       "          AQI        PM10       PM2_5         NO2        SO2          O3\n",
       "0  187.270059  295.853039   13.038560    6.639263  66.161150   54.624280\n",
       "1  475.357153  246.254703    9.984497   16.318326  90.499523  169.621728\n",
       "2  365.996971   84.443191   23.111340   96.317811  17.875850    9.006794\n",
       "3  299.329242   21.020609   14.273403   81.234403  48.323616   93.161033\n",
       "4   78.009320   16.987667  152.111623  121.235461  90.866167  241.795138"
      ]
     },
     "execution_count": 11,
     "metadata": {},
     "output_type": "execute_result"
    }
   ],
   "source": [
    "new_df.head()"
   ]
  },
  {
   "cell_type": "code",
   "execution_count": 13,
   "metadata": {},
   "outputs": [
    {
     "data": {
      "text/plain": [
       "(5811, 6)"
      ]
     },
     "execution_count": 13,
     "metadata": {},
     "output_type": "execute_result"
    }
   ],
   "source": [
    "new_df.shape"
   ]
  },
  {
   "cell_type": "code",
   "execution_count": 14,
   "metadata": {},
   "outputs": [
    {
     "data": {
      "text/plain": [
       "pandas.core.frame.DataFrame"
      ]
     },
     "execution_count": 14,
     "metadata": {},
     "output_type": "execute_result"
    }
   ],
   "source": [
    "type(new_df)"
   ]
  },
  {
   "cell_type": "code",
   "execution_count": 15,
   "metadata": {},
   "outputs": [],
   "source": [
    "health_columns = ['RespiratoryCases', 'CardiovascularCases', 'HospitalAdmissions'] \n"
   ]
  },
  {
   "cell_type": "code",
   "execution_count": 16,
   "metadata": {},
   "outputs": [],
   "source": [
    "# Extract features and labels\n",
    "X_pollution = new_df.values\n",
    "X_health = df[health_columns].values\n",
    "y_score = df['HealthImpactScore'].values\n",
    "y_binary = df['HealthImpactClass'].values"
   ]
  },
  {
   "cell_type": "code",
   "execution_count": 19,
   "metadata": {},
   "outputs": [
    {
     "data": {
      "text/plain": [
       "array([[187.27005942, 295.85303919,  13.03856044,   6.63926301,\n",
       "         66.16114965,  54.62427998],\n",
       "       [475.3571532 , 246.25470278,   9.98449713,  16.31832608,\n",
       "         90.4995226 , 169.62172753],\n",
       "       [365.99697091,  84.44319074,  23.11133977,  96.31781102,\n",
       "         17.87585035,   9.0067936 ],\n",
       "       ...,\n",
       "       [314.84179763,  41.89269906, 184.70855139,  82.10582279,\n",
       "         68.33457751, 105.56850348],\n",
       "       [208.0804732 , 165.53378512, 199.17725515, 100.79638514,\n",
       "         87.58648826, 166.46953697],\n",
       "       [ 83.26925675,  82.21626223, 119.96824423, 193.44069117,\n",
       "         79.84917706,  28.68188524]])"
      ]
     },
     "execution_count": 19,
     "metadata": {},
     "output_type": "execute_result"
    }
   ],
   "source": [
    "X_pollution"
   ]
  },
  {
   "cell_type": "markdown",
   "metadata": {},
   "source": [
    "## Pre processing the Data"
   ]
  },
  {
   "cell_type": "code",
   "execution_count": 20,
   "metadata": {},
   "outputs": [],
   "source": [
    "from sklearn.preprocessing import StandardScaler, MinMaxScaler"
   ]
  },
  {
   "cell_type": "code",
   "execution_count": 21,
   "metadata": {},
   "outputs": [],
   "source": [
    "# Scale the features\n",
    "pollution_scaler = StandardScaler()\n",
    "health_scaler = MinMaxScaler(feature_range=(0, 1))\n",
    "\n",
    "X_pollution_scaled = pollution_scaler.fit_transform(X_pollution)\n",
    "X_health_scaled = health_scaler.fit_transform(X_health)\n"
   ]
  },
  {
   "cell_type": "code",
   "execution_count": 40,
   "metadata": {},
   "outputs": [
    {
     "data": {
      "text/plain": [
       "array([[-0.42253543,  1.71777463, -1.5008217 , -1.65754896,  0.58554352,\n",
       "        -1.09432172],\n",
       "       [ 1.56749487,  1.13897098, -1.55339493, -1.48982477,  1.43868712,\n",
       "         0.23471685],\n",
       "       [ 0.81206333, -0.7493402 , -1.32742698, -0.10354912, -1.10702213,\n",
       "        -1.6215282 ],\n",
       "       ...,\n",
       "       [ 0.45869678, -1.24589677,  1.45433797, -0.34982237,  0.66172963,\n",
       "        -0.50555354],\n",
       "       [-0.27878253,  0.19697242,  1.70340497, -0.0259419 ,  1.33657526,\n",
       "         0.19828663],\n",
       "       [-1.14094577, -0.77532806,  0.33988608,  1.57945025,  1.06535591,\n",
       "        -1.39414093]])"
      ]
     },
     "execution_count": 40,
     "metadata": {},
     "output_type": "execute_result"
    }
   ],
   "source": [
    "X_pollution_scaled\n"
   ]
  },
  {
   "cell_type": "code",
   "execution_count": 22,
   "metadata": {},
   "outputs": [],
   "source": [
    "from sklearn.model_selection import train_test_split"
   ]
  },
  {
   "cell_type": "code",
   "execution_count": 23,
   "metadata": {},
   "outputs": [],
   "source": [
    "# Split the data into training and test sets\n",
    "X_pollution_train, X_pollution_test, X_health_train, X_health_test, y_binary_train, y_binary_test, y_score_train, y_score_test = train_test_split(\n",
    "    X_pollution_scaled, X_health_scaled, y_binary, y_score, test_size=0.2, random_state=42\n",
    ")"
   ]
  },
  {
   "cell_type": "code",
   "execution_count": 24,
   "metadata": {},
   "outputs": [
    {
     "data": {
      "text/plain": [
       "(4648, 6)"
      ]
     },
     "execution_count": 24,
     "metadata": {},
     "output_type": "execute_result"
    }
   ],
   "source": [
    "X_pollution_train.shape"
   ]
  },
  {
   "cell_type": "markdown",
   "metadata": {},
   "source": [
    "## Building the Neural Network"
   ]
  },
  {
   "cell_type": "code",
   "execution_count": 25,
   "metadata": {},
   "outputs": [],
   "source": [
    "import tensorflow as tf\n",
    "from tensorflow.keras.models import Model\n",
    "from tensorflow.keras.layers import Input, Dense, Dropout, Lambda, Concatenate"
   ]
  },
  {
   "cell_type": "code",
   "execution_count": 29,
   "metadata": {},
   "outputs": [],
   "source": [
    "# feature processing\n",
    "# retrieving dimensions for pollution and health input\n",
    "# Set the feature dimensions\n",
    "pollution_feature_dim = X_pollution_train.shape[1]\n",
    "health_feature_dim = X_health_train.shape[1]\n"
   ]
  },
  {
   "cell_type": "code",
   "execution_count": 30,
   "metadata": {},
   "outputs": [],
   "source": [
    "# Pollution Inputs\n",
    "pollution_inputs_ann = Input(shape=(pollution_feature_dim,), name='pollution_inputs_ann')\n",
    "\n",
    "# Health Impact Inputs\n",
    "health_inputs_ann = Input(shape=(health_feature_dim,), name='health_inputs_ann')"
   ]
  },
  {
   "cell_type": "code",
   "execution_count": 31,
   "metadata": {},
   "outputs": [],
   "source": [
    "# Feature Processing\n",
    "x_pollution_ann = Dense(64, activation='relu')(pollution_inputs_ann)\n",
    "x_pollution_ann = Dropout(0.3)(x_pollution_ann)\n",
    "\n",
    "x_health_ann = Dense(32, activation='relu')(health_inputs_ann)\n",
    "x_health_ann = Dropout(0.2)(x_health_ann)\n"
   ]
  },
  {
   "cell_type": "code",
   "execution_count": null,
   "metadata": {},
   "outputs": [],
   "source": []
  },
  {
   "cell_type": "code",
   "execution_count": null,
   "metadata": {},
   "outputs": [],
   "source": [
    "def _build_multi_output_model(self):\n",
    "        \"\"\"\n",
    "        Build neural network with multiple outputs\n",
    "        \"\"\"\n",
    "        # Pollution Inputs\n",
    "        pollution_inputs = Input(shape=(self.pollution_feature_dim,), name='pollution_inputs')\n",
    "        \n",
    "        # Health Impact Inputs\n",
    "        health_inputs = Input(shape=(self.health_feature_dim,), name='health_inputs')\n",
    "        \n",
    "        # Feature Processing\n",
    "        x_pollution = Dense(64, activation='relu')(pollution_inputs)\n",
    "        x_pollution = Dropout(0.3)(x_pollution)\n",
    "        \n",
    "        x_health = Dense(32, activation='relu')(health_inputs)\n",
    "        x_health = Dropout(0.2)(x_health)\n",
    "        \n",
    "        # Concatenate Features\n",
    "        combined = Concatenate()([x_pollution, x_health])\n",
    "        \n",
    "        # Advanced Hidden Layers\n",
    "        x = Dense(64, activation='relu')(combined)\n",
    "        x = Dropout(0.3)(x)\n",
    "        x = Dense(32, activation='relu')(x)\n",
    "        x = Dropout(0.2)(x)\n",
    "        \n",
    "        # Multiple Outputs\n",
    "        # Binary Classification Output\n",
    "        binary_classification = Dense(1, activation='sigmoid', name='binary_health_class')(x)\n",
    "        \n",
    "        # Continuous Health Impact Score Regression Output\n",
    "        health_impact_score = Dense(1, activation='linear', name='health_impact_score')(x)\n",
    "        \n",
    "        # Uncertainty Estimation\n",
    "        uncertainty = Lambda(\n",
    "            lambda tensor: tf.math.reduce_std(tensor, axis=-1), \n",
    "            name='uncertainty'\n",
    "        )(x)\n",
    "        \n",
    "        # Create Model\n",
    "        model = Model(\n",
    "            inputs=[pollution_inputs, health_inputs], \n",
    "            outputs=[binary_classification, health_impact_score, uncertainty]\n",
    "        )\n",
    "        \n",
    "        # Compile Model with Multiple Losses\n",
    "        model.compile(\n",
    "            optimizer='adam',\n",
    "            loss={\n",
    "                'binary_health_class': 'binary_crossentropy',\n",
    "                'health_impact_score': 'mean_squared_error',\n",
    "                'uncertainty': 'mean_squared_error'\n",
    "            },\n",
    "            loss_weights={\n",
    "                'binary_health_class': 1.0,\n",
    "                'health_impact_score': 0.5,\n",
    "                'uncertainty': 0.1\n",
    "            },\n",
    "            metrics={\n",
    "                'binary_health_class': ['accuracy']\n",
    "            }\n",
    "        )\n",
    "        \n",
    "        return model"
   ]
  }
 ],
 "metadata": {
  "kernelspec": {
   "display_name": "Python 3",
   "language": "python",
   "name": "python3"
  },
  "language_info": {
   "codemirror_mode": {
    "name": "ipython",
    "version": 3
   },
   "file_extension": ".py",
   "mimetype": "text/x-python",
   "name": "python",
   "nbconvert_exporter": "python",
   "pygments_lexer": "ipython3",
   "version": "3.11.0"
  }
 },
 "nbformat": 4,
 "nbformat_minor": 2
}
